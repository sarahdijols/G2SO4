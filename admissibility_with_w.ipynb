{
 "cells": [
  {
   "cell_type": "code",
   "execution_count": null,
   "metadata": {},
   "outputs": [],
   "source": [
    "print(n_a*t0*M_b)\n",
    "print(\"\\n\")\n",
    "print(M_b*n_a*t0)\n",
    "print(\"\\n\")\n",
    "\n",
    "print(n_a*n_b*n_a*t0*M_b)\n",
    "print(\"\\n\")\n",
    "print(M_b*n_a*n_b*n_a*t0)\n",
    "\n",
    "print(\"\\n\")\n",
    "print(n_a*n_b*n_a*n_b*n_a*t0*M_b)\n",
    "print(\"\\n\")\n",
    "print(M_b*n_a*n_b*n_a*n_b*n_a*t0)\n",
    "\n"
   ]
  },
  {
   "cell_type": "code",
   "execution_count": null,
   "metadata": {},
   "outputs": [],
   "source": [
    "print(n_a*t1*M_b)\n",
    "print(\"\\n\")\n",
    "print(M_b*n_a*t1)\n",
    "print(\"\\n\")\n",
    "\n",
    "print(n_a*n_b*n_a*t1*M_b)\n",
    "print(\"\\n\")\n",
    "print(M_b*n_a*n_b*n_a*t1)\n",
    "\n",
    "print(\"\\n\")\n",
    "print(n_a*n_b*n_a*n_b*n_a*t1*M_b)\n",
    "print(\"\\n\")\n",
    "print(M_b*n_a*n_b*n_a*n_b*n_a*t1)\n"
   ]
  },
  {
   "cell_type": "code",
   "execution_count": 1,
   "metadata": {},
   "outputs": [
    {
     "ename": "NameError",
     "evalue": "name 'n_a' is not defined",
     "output_type": "error",
     "traceback": [
      "\u001b[0;31m---------------------------------------------------------------------------\u001b[0m",
      "\u001b[0;31mNameError\u001b[0m                                 Traceback (most recent call last)",
      "\u001b[0;32m<ipython-input-1-ec395ba4d4a4>\u001b[0m in \u001b[0;36m<module>\u001b[0;34m()\u001b[0m\n\u001b[0;32m----> 1\u001b[0;31m \u001b[0mprint\u001b[0m\u001b[0;34m(\u001b[0m\u001b[0mn_a\u001b[0m\u001b[0;34m*\u001b[0m\u001b[0mt2\u001b[0m\u001b[0;34m*\u001b[0m\u001b[0mM_b\u001b[0m\u001b[0;34m)\u001b[0m\u001b[0;34m\u001b[0m\u001b[0;34m\u001b[0m\u001b[0m\n\u001b[0m\u001b[1;32m      2\u001b[0m \u001b[0mprint\u001b[0m\u001b[0;34m(\u001b[0m\u001b[0;34m\"\\n\"\u001b[0m\u001b[0;34m)\u001b[0m\u001b[0;34m\u001b[0m\u001b[0;34m\u001b[0m\u001b[0m\n\u001b[1;32m      3\u001b[0m \u001b[0mprint\u001b[0m\u001b[0;34m(\u001b[0m\u001b[0mM_b\u001b[0m\u001b[0;34m*\u001b[0m\u001b[0mn_a\u001b[0m\u001b[0;34m*\u001b[0m\u001b[0mt2\u001b[0m\u001b[0;34m)\u001b[0m\u001b[0;34m\u001b[0m\u001b[0;34m\u001b[0m\u001b[0m\n\u001b[1;32m      4\u001b[0m \u001b[0mprint\u001b[0m\u001b[0;34m(\u001b[0m\u001b[0;34m\"\\n\"\u001b[0m\u001b[0;34m)\u001b[0m\u001b[0;34m\u001b[0m\u001b[0;34m\u001b[0m\u001b[0m\n\u001b[1;32m      5\u001b[0m \u001b[0;34m\u001b[0m\u001b[0m\n",
      "\u001b[0;31mNameError\u001b[0m: name 'n_a' is not defined"
     ]
    }
   ],
   "source": [
    "print(n_a*t2*M_b)\n",
    "print(\"\\n\")\n",
    "print(M_b*n_a*t2)\n",
    "print(\"\\n\")\n",
    "\n",
    "print(n_a*n_b*n_a*t2*M_b)\n",
    "print(\"\\n\")\n",
    "print(M_b*n_a*n_b*n_a*t2)\n",
    "\n",
    "print(\"\\n\")\n",
    "print(n_a*n_b*n_a*n_b*n_a*t2*M_b)\n",
    "print(\"\\n\")\n",
    "print(M_b*n_a*n_b*n_a*n_b*n_a*t2)\n",
    "\n",
    "# In all those three sets of code, only the last of the Wb\\W/Wb elements lead to two matrices which \n",
    "#share the same non-zero entries"
   ]
  },
  {
   "cell_type": "code",
   "execution_count": null,
   "metadata": {},
   "outputs": [],
   "source": []
  }
 ],
 "metadata": {
  "kernelspec": {
   "display_name": "SageMath 9.0",
   "language": "sage",
   "name": "sagemath"
  },
  "language_info": {
   "codemirror_mode": {
    "name": "ipython",
    "version": 3
   },
   "file_extension": ".py",
   "mimetype": "text/x-python",
   "name": "python",
   "nbconvert_exporter": "python",
   "pygments_lexer": "ipython3",
   "version": "3.7.3"
  }
 },
 "nbformat": 4,
 "nbformat_minor": 2
}
