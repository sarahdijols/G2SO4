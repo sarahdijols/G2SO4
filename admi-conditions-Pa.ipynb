# We need to verify the conditions given in Thm 7.2 of Offen's
sage: var('t')
sage: var('s')
sage: var('r')
sage: var('m')
sage: var('n')
sage: var('o')
sage: var('p')
sage: var('q')
sage: var('l')
sage: var('b')
sage: var('r3')
sage: var('r4')


u_art= matrix([[1, -r, 0, 0, 0, 0, 0, 0],\
                   [0, 1,  0, 0, 0, 0, 0, 0],\
                   [r,-r^2, 1 ,-r ,0 ,0 ,0, 0],\
                   [0, r,  0, 1, 0, 0, 0, 0],\
                   [0 ,0 ,0 ,0 ,1 ,-r ,0 ,0],\
                   [0 ,0 ,0 ,0 ,0 ,1 ,0 ,0],\
                   [0 ,0 ,0 ,0 ,0, 0 ,1, -r],\
                   [0 ,0 ,0 ,0 ,0 ,0 ,0, 1]])


u_ar = u_art.transpose()
u_a = u_ar.subs(r=1)
u_al= u_ar.subs(r=l)

u_mart = matrix([[1, 0, r, 0, 0, 0, 0, 0],\
                   [-r, 1,-r^2, r, 0, 0, 0, 0],\
                   [0, 0, 1 ,0 ,0 ,0 ,0, 0],\
                   [0, 0, -r, 1, 0, 0, 0, 0],\
                   [0 ,0 ,0 ,0 ,1 ,0 ,0 ,0],\
                   [0 ,0 ,0 ,0 ,-r ,1 ,0 ,0],\
                   [0 ,0 ,0 ,0 ,0, 0 ,1, 0],\
                   [0 ,0 ,0 ,0 ,0 ,0 ,-r, 1]])


u_mar = u_mart.transpose()
u_ma = u_mar.subs(r=-1)
n_a = u_a*u_ma*u_a



u_brt = matrix([[1, 0, 0, 0, 0, 0, 0, 0],\
                   [0, 1, 0 ,0 ,b ,0 ,0, 0],\
                   [0, 0, 1 ,0 ,0 ,0 ,0, 0],\
                   [0, 0, 0, 1, 0, 0, 0, 0],\
                   [0 ,0 ,0 ,0 ,1 ,0 ,0 ,0],\
                   [0 ,0 ,0 ,0 ,0 ,1 ,0 ,0],\
                   [0 ,0 ,0 ,0 ,0, 0 ,1, 0],\
                   [0 ,0 ,-b ,0 ,0 ,0 ,0, 1]])


u_br = u_brt.transpose()
u_b = u_br.subs(b=1)
u_bl= u_br.subs(b=l)

u_mbrt = matrix([[1, 0, 0, 0, 0, 0, 0, 0],\
                    [0, 1, 0, 0 ,0 ,0 ,0, 0],\
                    [0, 0, 1 ,0 ,0 ,0 ,0, -b],\
                    [0, 0, 0, 1, 0, 0, 0, 0],\
                    [0 ,b ,0 ,0 ,1 ,0 ,0 ,0],\
                    [0 ,0 ,0 ,0 ,0 ,1 ,0 ,0],\
                    [0 ,0 ,0 ,0 ,0, 0 ,1, 0],\
                    [0 ,0 ,0 ,0 ,0 ,0 ,0, 1]])

u_mbr = u_mbrt.transpose()
u_mb = u_mbr.subs(b=-1)
n_b = u_b*u_mb*u_b


u_abrt = matrix([[1, 0, 0, 0, -n, 0, 0, 0],\
                    [0, 1, 0, 0 ,0 ,n ,0, 0],\
                    [0, 0, 1 ,0 ,0 ,0 ,0, 0],\
                    [0, 0, 0, 1, n, 0, 0, 0],\
                    [0 ,0, 0 ,0 ,1 ,0 ,0 ,0],\
                    [0 ,0 ,0 ,0 ,0 ,1 ,0 ,0],\
                    [0 ,0 ,n ,0 ,0, 0 ,1, 0],\
                    [n ,0, 0, -n, -n^2,0 ,0, 1]])

u_abr = u_abrt.transpose()
u_ab = u_abr.subs(n=1)
u_abm= u_abr.subs(n=m)



u_2abrt = matrix([[1, 0, 0, 0, 0, -o,0, 0],\
                    [0, 1, 0, 0 ,0 ,0 ,0, 0],\
                    [0, 0, 1 ,0 ,-o,0 ,0, 0],\
                    [0, 0, 0, 1, 0, o, 0, 0],\
                    [0 ,0 ,0 ,0 ,1 ,0 ,0 ,0],\
                    [0 ,0 ,0 ,0 ,0 ,1 ,0 ,0],\
                    [-o,0 ,0 ,o ,0, o^2,1, 0],\
                    [0 ,o ,0 ,0 ,0 ,0 ,0, 1]])

u_2abr = u_2abrt.transpose()
u_2ab = u_2abr.subs(o=1)
u_2abn= u_2abr.subs(o=n)

u_3abrt = matrix([[1, 0, 0, 0, 0, 0, 0, 0],\
                    [0, 1, 0, 0 ,0 ,0 ,0, 0],\
                    [0, 0, 1 ,0 ,0 ,-p ,0, 0],\
                    [0, 0, 0, 1, 0, 0, 0, 0],\
                    [0 ,0 ,0 ,0 ,1 ,0 ,0 ,0],\
                    [0 ,0 ,0 ,0 ,0 ,1 ,0 ,0],\
                    [0 ,-p,0 ,0 ,0,0 ,1, 0],\
                    [0 ,0 ,0 ,0 ,0 ,0 ,0, 1]])

u_3abr= u_3abrt.transpose()
u_3ab = u_3abr.subs(p=1)
u_3abr3 = u_3abr.subs(p=r3)



u_3a2brt= matrix([[1, 0, 0, 0, 0, 0, 0, 0],\
                      [0, 1, 0, 0 ,0 ,0 ,0, 0],\
                      [0, 0, 1 ,0 ,0 ,0 ,0, 0],\
                      [0, 0, 0, 1, 0, 0, 0, 0],\
                      [0 ,0 ,0 ,0 ,1 ,0 ,0 ,0],\
                      [0 ,0 ,0 ,0 ,0 ,1 ,0 ,0],\
                      [0 ,0 ,0 ,0 ,-q,0 ,1, 0],\
                      [0 ,0 ,0 ,0 ,0 ,-q ,0, 1]])

u_3a2br= u_3a2brt.transpose()
u_3a2b = u_3a2br.subs(q=1)
u_3a2br4 = u_3a2br.subs(q=r4)
print(u_3a2br4)


tor2 = matrix([[1, 0, 0, 0, 0, 0, 0, 0],\
                      [0, t^(-1)*s^(2), 0, 0 ,0 ,0 ,0, 0],\
                      [0, 0,s^(-2)*t,0 ,0 ,0 ,0, 0],\
                      [0, 0, 0, 1, 0, 0, 0, 0],\
                      [0 ,0 ,0 ,0 ,t*s^(-1) ,0 ,0 ,0],\
                      [0 ,0 ,0 ,0 ,0 ,s ,0 ,0],\
                      [0 ,0 ,0 ,0 ,0 ,0 ,s^(-1), 0],\
                      [0 ,0 ,0 ,0 ,0 ,0 ,0, s*t^(-1)]])

print("torus 2, Pb")
t_0 = tor2.subs(t=1,s=-1)
t_1= tor2.subs(t=-1, s=1)
t_2= tor2.subs(t=-1, s=-1)
print(t_0)
print("\n")
print(t_1)
print("\n")
print(t_2)


tor = matrix([[1, 0, 0, 0, 0, 0, 0, 0],\
                      [0, t*s^(-1), 0, 0 ,0 ,0 ,0, 0],\
                      [0, 0,s*t^(-1),0 ,0 ,0 ,0, 0],\
                      [0, 0, 0, 1, 0, 0, 0, 0],\
                      [0 ,0 ,0 ,0 ,s ,0 ,0 ,0],\
                      [0 ,0 ,0 ,0 ,0 ,t ,0 ,0],\
                      [0 ,0 ,0 ,0 ,0 ,0 ,t^(-1), 0],\
                      [0 ,0 ,0 ,0 ,0 ,0 ,0, s^(-1)]])

t_0 = tor.subs(t=1,s=-1)

t0 = matrix([[1, 0, 0, 0, 0, 0, 0, 0],\
                      [0, -1, 0, 0 ,0 ,0 ,0, 0],\
                      [0, 0,-1,0 ,0 ,0 ,0, 0],\
                      [0, 0, 0, 1, 0, 0, 0, 0],\
                      [0 ,0 ,0 ,0 ,-1 ,0 ,0 ,0],\
                      [0 ,0 ,0 ,0 ,0 ,1 ,0 ,0],\
                      [0 ,0 ,0 ,0 ,0 ,0 ,1, 0],\
                      [0 ,0 ,0 ,0 ,0 ,0 ,0, -1]])


#compare with the torus used in P_a
print("torus 1, Pa")
t_0 = tor.subs(t=1,s=-1)
t_1= tor.subs(t=-1, s=1)
t_2= tor.subs(t=-1, s=-1)

print(t_0)
print("\n")
print(t_1)
print("\n")
print(t_2)

sage: var('x')
u_mbx=u_mbr.subs(b=x)
print("tor*u_br*u_mbx=")
print(tor*u_br*u_mbx)
print("\n")
print(u_br*tor*u_mbx*n_b)

#M_a
print("M_a")
sage: var('x')
u_max=u_mar.subs(r=x)
m2= u_ar*tor*u_max*n_a
print(m2)
print("\n")
M= tor*u_ar*u_max
print(M)
M= u_ar*tor*u_max
print(M)

# define the unipotent U_a

u_alin= matrix([[1, 0, -l, 0, 0, 0, 0, 0],\
[l,1, -l^2 , -l, 0, 0, 0, 0],\
[0, 0, 1 ,0 ,0 ,0 ,0, 0],\
[0, 0, l, 1, 0, 0, 0, 0],\
[0 ,0 ,0 ,0 ,1 ,0 ,0 ,0],\
[0 ,0 ,0 ,0 ,l ,1 ,0 ,0],\
[0 ,0 ,0 ,0 ,0, 0 ,1, 0],\
[0 ,0 ,0 ,0 ,0 ,0 ,l, 1]])
    
u_abmi=matrix([[1, 0, 0, 0, 0, 0, 0, -m],\
[0, 1, 0, 0 ,0 ,0 ,0, 0],\
[0, 0, 1 ,0 ,0 ,0 ,-m, 0],\
[0, 0, 0, 1, 0, 0, 0, m],\
[m, 0, 0 ,-m ,1, 0 ,0 ,-m^2],\
[0, -m, 0 ,0 , 0, 1 ,0 ,0],\
[0, 0 ,0 ,0 ,0, 0 ,1, 0],\
[0, 0, 0, 0, 0,0 ,0, 1]])

u_2abni= matrix([[1, 0, 0, 0, 0, 0,n, 0],\
[0, 1, 0, 0 ,0 ,0 ,0, -n],\
[0, 0, 1 ,0 ,0,0 ,0, 0],\
[0, 0, 0, 1, 0, 0, -n, 0],\
[0 ,0 ,n ,0 ,1 ,0 ,0 ,0],\
[n, 0 ,0 , -n ,0 ,1 ,n^2 ,0],\
[0, 0, 0, 0, 0, 0, 1, 0],\
[0 ,0 ,0 ,0 ,0 ,0 ,0, 1]])

u_3abpi= matrix([[1, 0, 0, 0, 0, 0, 0, 0],\
[0, 1, 0, 0 ,0 ,0 ,p, 0],\
[0, 0, 1 ,0 ,0 ,0 ,0, 0],\
[0, 0, 0, 1, 0, 0, 0, 0],\
[0 ,0 ,0 ,0 ,1 ,0 ,0 ,0],\
[0 ,0 ,p ,0 ,0 ,1 ,0 ,0],\
[0 ,0,0 ,0 ,0,0 ,1, 0],\
[0 ,0 ,0 ,0 ,0 ,0 ,0, 1]])

u_3a2bqi= matrix([[1, 0, 0, 0, 0, 0, 0, 0],\
[0, 1, 0, 0 ,0 ,0 ,0, 0],\
[0, 0, 1 ,0 ,0 ,0 ,0, 0],\
[0, 0, 0, 1, 0, 0, 0, 0],\
[0 ,0 ,0 ,0 ,1 ,0 ,q ,0],\
[0 ,0 ,0 ,0 ,0 ,1 ,0 ,q],\
[0 ,0 ,0 ,0 ,0,0 ,1, 0],\
[0 ,0 ,0 ,0 ,0 ,0 ,0, 1]])

U_b= u_al*u_abm*u_2abn*u_3abr*u_3a2br
print("\n")

print("U_a")
U_a = u_bl*u_abm*u_2abn*u_3abr*u_3a2br
print(U_a)

# the eta elements P_a\G_2/SO4

w_0 = n_a*n_b*n_a*n_b*n_a
w_1 = n_b*n_a*n_b*n_a

eta1= tor(s=1, t=1)
eta2= n_b*n_a
print(eta2)
print("\n")
eta3= n_b*n_a*u_a
print(eta3)
print("\n")
eta4= n_b*n_a*u_3ab
print(eta4)
print("\n")
eta5= n_b*n_a*u_a*u_3ab
print(eta5)
print("\n")
eta6= n_b*n_a*n_b*n_a*u_a
print(eta6)
print("\n")
eta7= n_b*n_a*n_b*n_a*u_a*u_3a2b
print("\n")
eta8= n_b*n_a*n_b*n_a*u_3a2b
# missing another (see end of the code)

#getting into admissibility
sage: var('a')
sage: var('b')
sage: var('c')
sage: var('d')
sage: var('u')
sage: var('v')
sage: var('w')
sage: var('y')
sage: var('z')
sage: var('T')


print("admissibility")
print(t_0*m2*t_0)
print("\n")
print("m2")
print(m2)
print("\n")
print(t_1*m2*t_1)
print("\n")
print(t_2*m2*t_2)
print("\n")

print("admissibility")
print(t_0*M*t_0)
print("\n")
print("M")
print(M)
print("\n")
print(t_1*M*t_1)
print("\n")
print(t_2*M*t_2)
print("\n")



print("conjugation by t_0, admissibility")

x_1=eta1*t_0*eta1.inverse()*t_0 # of course, x_1 = eta_1 is the identity - this will let us "check" the later steps
x_2=eta2*t_0*eta2.inverse()*t_0
x_3=eta3*t_0*eta3.inverse()*t_0
x_4=eta4*t_0*eta4.inverse()*t_0
x_5=eta5*t_0*eta5.inverse()*t_0
x_6=eta6*t_0*eta6.inverse()*t_0
x_7=eta7*t_0*eta7.inverse()*t_0
x_8=eta8*t_0*eta8.inverse()*t_0

print(x_2*t_0*m2)
print("\n")
print(m2*x_2*t_0)
print("\n")
print("x_3")
print(x_3*t_0*m2)
print("\n")
print(m2*x_3*t_0)
print("\n")
print("x_4")
print(x_4*t_0*m2)
print("\n")
print(m2*x_4*t_0)
print("\n")
print("x_5")
print(x_5*t_0*m2)
print("\n")
print(m2*x_5*t_0)
print("\n")
print("x_6")
print(x_6*t_0*m2)
print("\n")
print(m2*x_6*t_0)
print("\n")
print("x_7")
print(x_7*t_0*m2)
print("\n")
print(m2*x_7*t_0)
print("\n")
print("x_8")
print(x_8*t_1*m2)
print("\n")
print(m2*x_8*t_0)

#defining x_i's with t_0
x_1=eta1*t_0*eta1.inverse()*t_0 # of course, x_1 = eta_1 is the identity - this will let us "check" the later steps
x_2=eta2*t_0*eta2.inverse()*t_0
x_3=eta3*t_0*eta3.inverse()*t_0
x_4=eta4*t_0*eta4.inverse()*t_0
x_5=eta5*t_0*eta5.inverse()*t_0
x_6=eta6*t_0*eta6.inverse()*t_0
x_7=eta7*t_0*eta7.inverse()*t_0
x_8=eta8*t_0*eta8.inverse()*t_0

print(x_2)
print("\n")
print(x_3)
print("\n")
print(x_4)
print("\n")
print("x_5")
print(x_5)     
print("\n")
print("x_6")
print(x_6)
print("\n")
print(x_7)
print("\n")
print(x_8)
print("\n")

# admissibility
print(x_2*t_0*M)
print("\n")
print(M*x_2*t_0)
print("\n")
print("x_3")
print(x_3*t_0*M)
print("\n")
print(M*x_3*t_0)
print("\n")
print("x_4")
print(x_4*t_0*M)
print("\n")
print(M*x_4*t_0)
print("\n")
print("x_5")
print(x_5*t_0*M)
print("\n")
print(M*x_5*t_0)
print("\n")
print("x_6")
print(x_6*t_0*M)
print("\n")
print(M*x_6*t_0)
print("\n")
print("x_7")
print(x_7*t_0*M)
print("\n")
print(M*x_7*t_0)
print("\n")
print("x_8")
print(x_8*t_0*M)
print("\n")
print(M*x_8*t_0)
print("\n")
print("x_9")

# now with t_1
x_1=eta1*t_1*eta1.inverse()*t_1 # of course, x_1 = eta_1 is the identity - this will let us "check" the later steps
x_2=eta2*t_1*eta2.inverse()*t_1
x_3=eta3*t_1*eta3.inverse()*t_1
x_4=eta4*t_1*eta4.inverse()*t_1
x_5=eta5*t_1*eta5.inverse()*t_1
x_6=eta6*t_1*eta6.inverse()*t_1
x_7=eta7*t_1*eta7.inverse()*t_1
x_8=eta8*t_1*eta8.inverse()*t_1

print(x_2)
print("\n")
print(x_3)
print("\n")
print(x_4)
print("\n")
print("x_5")
print(x_5)     
print("\n")
print("x_6")
print(x_6)
print("\n")
print(x_7)
print("\n")
print(x_8)
print("\n")
print(x_9)
print("\n")
print(x_10)
print("\n")
print(x_11)

print(x_2*t_1*m2)
print("\n")
print(m2*x_2*t_1)
print("\n")
print("x_3")
print(x_3*t_1*m2)
print("\n")
print(m2*x_3*t_1)
print("\n")
print("x_4")
print(x_4*t_1*m2)
print("\n")
print(m2*x_4*t_1)
print("\n")
print("x_5")
print(x_5*t_1*m2)
print("\n")
print(m2*x_5*t_1)
print("\n")
print("x_6")
print(x_6*t_1*m2)
print("\n")
print(m2*x_6*t_1)
print("\n")
print("x_7")
print(x_7*t_1*m2)
print("\n")
print(m2*x_7*t_1)
print("\n")
print("x_8")
print(x_8*t_1*m2)
print("\n")
print(m2*x_8*t_1)


print(x_2*t_1*M)
print("\n")
print(M*x_2*t_1)
print("\n")
print("x_3")
print(x_3*t_1*M)
print("\n")
print(M*x_3*t_1)
print("\n")
print("x_4")
print(x_4*t_1*M)
print("\n")
print(M*x_4*t_1)
print("\n")
print("x_5")
print(x_5*t_1*M)
print("\n")
print(M*x_5*t_1)
print("\n")
print("x_6")
print(x_6*t_1*M)
print("\n")
print(M*x_6*t_1)
print("\n")
print("x_7")
print(x_7*t_1*M)
print("\n")
print(M*x_7*t_1)
print("\n")
print("x_8")
print(x_8*t_1*M)
print("\n")
print(M*x_8*t_1)

#now with t_2

x_1=eta1*t_2*eta1.inverse()*t_2 # of course, x_1 = eta_1 is the identity - this will let us "check" the later steps
x_2=eta2*t_2*eta2.inverse()*t_2
x_3=eta3*t_2*eta3.inverse()*t_2
x_4=eta4*t_2*eta4.inverse()*t_2
x_5=eta5*t_2*eta5.inverse()*t_2
x_6=eta6*t_2*eta6.inverse()*t_2
x_7=eta7*t_2*eta7.inverse()*t_2
x_8=eta8*t_2*eta8.inverse()*t_2

print(x_2)
print("\n")
print(x_3)
print("\n")
print(x_4)
print("\n")
print("x_5")
print(x_5)     
print("\n")
print("x_6")
print(x_6)
print("\n")
print(x_7)
print("\n")
print(x_8)

x_1=eta1*t_2*eta1.inverse()*t_2 # of course, x_1 = eta_1 is the identity - this will let us "check" the later steps
x_2=eta2*t_2*eta2.inverse()*t_2
x_3=eta3*t_2*eta3.inverse()*t_2
x_4=eta4*t_2*eta4.inverse()*t_2
x_5=eta5*t_2*eta5.inverse()*t_2
x_6=eta6*t_2*eta6.inverse()*t_2
x_7=eta7*t_2*eta7.inverse()*t_2
x_8=eta8*t_2*eta8.inverse()*t_2


print(m2)
print("\n")
print(t_2*m2*t_2)
print("\n")
print(M)
print("\n")
print(t_2*M*t_2)
print("\n")


print(x_2*t_2*m2)
print("\n")
print(m2*x_2*t_2)
print("\n")
print("x_3")
print(x_3*t_2*m2)
print("\n")
print(m2*x_3*t_2)
print("\n")
print("x_4")
print(x_4*t_2*m2)
print("\n")
print(m2*x_4*t_2)
print("\n")
print("x_5")
print(x_5*t_2*m2)
print("\n")
print(m2*x_5*t_2)
print("\n")
print("x_6")
print(x_6*t_2*m2)
print("\n")
print(m2*x_6*t_2)
print("\n")
print("x_7")
print(x_7*t_2*m2)
print("\n")
print(m2*x_7*t_2)
print("\n")
print("x_8")
print(x_8*t_2*m2)
print("\n")
print(m2*x_8*t_2)


print(x_2*M)
print("\n")
print(M*x_2)
print("\n")
print("x_3")
print(x_3*M)
print("\n")
print(M*x_3)
print("\n")
print("x_4")
print(x_4*M)
print("\n")
print(M*x_4)
print("\n")
print("x_5")
print(x_5*M)
print("\n")
print(M*x_5)
print("\n")
print("x_6")
print(x_6*M)
print("\n")
print(M*x_6)
print("\n")
print("x_7")
print(x_7*M)
print("\n")
print(M*x_7)
print("\n")
print("x_8")
print(x_8*M)
print("\n")
print(M*x_8)
print("\n")

# now openess and closedness
x_2=eta2*t_0*eta2.inverse()*t_0

print(x_2*t_0*M)
print("\n")
print(M*x_2*t_0)
print("\n")

P_a = M*U_a

print(x_2*t_0*U_a)
print("\n")
print(U_a*x_2*t_0)


print(x_2*t_0*m2)
print("\n")
print(m2*x_2*t_0)
print("\n")

P_a = m2*U_a

print(x_2*t_0*U_a)
print("\n")
print(U_a*x_2*t_0)

# x_2 with t_1
x_2=eta2*t_1*eta2.inverse()*t_1

print(x_2*t_1*M)
print("\n")
print(M*x_2*t_1)
print("\n")

P_a = M*U_a

print(x_2*t_1*U_a)
print("\n")
print(U_a*x_2*t_1)

print(x_2*t_1*m2)
print("\n")
print(m2*x_2*t_1)
print("\n")

P_a = m2*U_a

print(x_2*t_1*U_a)
print("\n")
print(U_a*x_2*t_1)


# x_2 with t_2
x_2=eta2*t_2*eta2.inverse()*t_2
print(x_2*t_2*M)
print("\n")
print(M*x_2*t_2)
print("\n")

P_a = M*U_a

print(x_2*t_2*P_a)
print("\n")
print(P_a*x_2*t_2)



# now with x_4
x_4=eta4*t_1*eta4.inverse()*t_1
print(x_4*t_1*M)
print("\n")
print(M*x_4*t_1)
print("\n")

P_a = M*U_a

print(x_4*t_1*U_a)
print("\n")
print(U_a*x_4*t_1)

#now with x_3
print(x_3*t_2*M)
print("\n")
print(M*x_3*t_2)
print("\n")

P_a = M*U_a

print(x_3*t_2*P_a)
print("\n")
print(P_a*x_3*t_2)

print(x_3*t_2*m2)
print("\n")
print(m2*x_3*t_2)
print("\n")

P_a = m2*U_a

print(x_3*t_2*P_a)
print("\n")
print(P_a*x_3*t_2)

#[etc, take the same equations applied to the admissible elements x_i written with the appropriate torus elements]

#now open orbit
# open orbit
eta9 = w_1*u_ab*u_3abr3

x_9=eta9*t_0*eta9.inverse()*t_0
print(x_9)
print("\n")


x_9=eta9*t_2*eta9.inverse()*t_2
print(x_9)
print("\n")

x_9=eta9*t_1*eta9.inverse()*t_1
print(x_9)
print("\n")

P_a = M*U_a
#with t_1
x_9=eta9*t_1*eta9.inverse()*t_1
print(x_9)
print("\n")

print(x_9*t_1*U_a)
print("\n")
print(U_a*x_9*t_1)
print("\n")

P_a = m2*U_a

print(x_9*t_1*U_a)
print("\n")
print(U_a*x_9*t_1)

P_a = M*U_a

x_9=eta9*t_1*eta9.inverse()*t_1
print(x_9)
print("\n")

print(x_9*t_1*M)
print("\n")
print(M*x_9*t_1)
print("\n")

print(x_9*t_1*m2)
print("\n")
print(m2*x_9*t_1)
# admissible


#with t_2
P_a = M*U_a

x_9=eta9*t_2*eta9.inverse()*t_2
print(x_9)
print("\n")

print(x_9*t_2*U_a)
print("\n")
print(U_a*x_9*t_2)
print("\n")

P_a = m2*U_a

print(x_9*t_2*U_a)
print("\n")
print(U_a*x_9*t_2)

print(x_9*t_2*M)
print("\n")
print(M*x_9*t_2)
print("\n")

print(x_9*t_2*m2)
print("\n")
print(m2*x_9*t_2)

# with t_0
P_a = M*U_a

x_9=eta9*t_0*eta9.inverse()*t_0
print(x_9)
print("\n")

print(x_9*t_0*U_a)
print("\n")
print(U_a*x_9*t_0)
print("\n")

P_a = m2*U_a

print(x_9*t_0*U_a)
print("\n")
print(U_a*x_9*t_0)
